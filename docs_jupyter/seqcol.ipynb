{
 "cells": [
  {
   "cell_type": "code",
   "execution_count": 1,
   "metadata": {},
   "outputs": [
    {
     "data": {
      "text/plain": [
       "'3.8.5'"
      ]
     },
     "execution_count": 1,
     "metadata": {},
     "output_type": "execute_result"
    }
   ],
   "source": [
    "import seqcol, pymongo, mongodict\n",
    "from henge import connect_mongo\n",
    "from collections import OrderedDict\n",
    "from platform import python_version \n",
    "python_version()"
   ]
  },
  {
   "cell_type": "code",
   "execution_count": 2,
   "metadata": {},
   "outputs": [
    {
     "name": "stdout",
     "output_type": "stream",
     "text": [
      "['/home/nsheff/.local/lib/python3.8/site-packages/seqcol/schemas/AnnotatedSequenceList.yaml']\n"
     ]
    }
   ],
   "source": [
    "sqdb = seqcol.SeqColHenge({})"
   ]
  },
  {
   "cell_type": "code",
   "execution_count": 3,
   "metadata": {},
   "outputs": [],
   "source": [
    "fa_file1 = \"../demo_fasta/demo.fa.gz\"\n",
    "fa_file2 = \"../demo_fasta/demo5.fa.gz\""
   ]
  },
  {
   "cell_type": "code",
   "execution_count": 4,
   "metadata": {},
   "outputs": [],
   "source": [
    "digest1, content1 = sqdb.load_fasta(fa_file1)"
   ]
  },
  {
   "cell_type": "code",
   "execution_count": 5,
   "metadata": {},
   "outputs": [
    {
     "data": {
      "text/plain": [
       "('0fa9bee27d61f92081c6063c922f9508352d940b8c53d53d',\n",
       " [{'name': 'chr1',\n",
       "   'length': 4,\n",
       "   'topology': 'linear',\n",
       "   'sequence': {'sequence': 'ACGT'}},\n",
       "  {'name': 'chr2',\n",
       "   'length': 4,\n",
       "   'topology': 'linear',\n",
       "   'sequence': {'sequence': 'TCGA'}}])"
      ]
     },
     "execution_count": 5,
     "metadata": {},
     "output_type": "execute_result"
    }
   ],
   "source": [
    "digest1, content1"
   ]
  },
  {
   "cell_type": "code",
   "execution_count": 6,
   "metadata": {},
   "outputs": [
    {
     "data": {
      "text/plain": [
       "[{'length': '4',\n",
       "  'name': 'chr1',\n",
       "  'sequence': {'sequence': 'ACGT'},\n",
       "  'topology': 'linear'},\n",
       " {'length': '4',\n",
       "  'name': 'chr2',\n",
       "  'sequence': {'sequence': 'TCGA'},\n",
       "  'topology': 'linear'}]"
      ]
     },
     "execution_count": 6,
     "metadata": {},
     "output_type": "execute_result"
    }
   ],
   "source": [
    "sqdb.retrieve(digest1)"
   ]
  },
  {
   "cell_type": "code",
   "execution_count": 8,
   "metadata": {},
   "outputs": [
    {
     "name": "stdout",
     "output_type": "stream",
     "text": [
      "['../seqcol/schemas/RawSeqCol.yaml']\n"
     ]
    }
   ],
   "source": [
    "sqdb2 = seqcol.SeqColHenge({}, schemas=[\"../seqcol/schemas/RawSeqCol.yaml\"])"
   ]
  },
  {
   "cell_type": "code",
   "execution_count": 9,
   "metadata": {},
   "outputs": [],
   "source": [
    "fa = seqcol.parse_fasta(fa_file1)"
   ]
  },
  {
   "cell_type": "code",
   "execution_count": 10,
   "metadata": {},
   "outputs": [
    {
     "data": {
      "text/plain": [
       "'TCGA'"
      ]
     },
     "execution_count": 10,
     "metadata": {},
     "output_type": "execute_result"
    }
   ],
   "source": [
    "str(fa[1])"
   ]
  },
  {
   "cell_type": "code",
   "execution_count": 11,
   "metadata": {},
   "outputs": [
    {
     "data": {
      "text/plain": [
       "odict_keys(['chr1', 'chr2'])"
      ]
     },
     "execution_count": 11,
     "metadata": {},
     "output_type": "execute_result"
    }
   ],
   "source": [
    "fa.keys()"
   ]
  },
  {
   "cell_type": "code",
   "execution_count": 12,
   "metadata": {},
   "outputs": [],
   "source": [
    "digest1, content1 = sqdb2.load_fasta2(fa_file1)"
   ]
  },
  {
   "cell_type": "code",
   "execution_count": 13,
   "metadata": {},
   "outputs": [
    {
     "data": {
      "text/plain": [
       "('4cf8e466ed0c750435042a86789d6b6f0c4c16f2098c6cb0',\n",
       " [{'name': 'chr1', 'length': 4, 'topology': 'linear', 'sequence': 'ACGT'},\n",
       "  {'name': 'chr2', 'length': 4, 'topology': 'linear', 'sequence': 'TCGA'}])"
      ]
     },
     "execution_count": 13,
     "metadata": {},
     "output_type": "execute_result"
    }
   ],
   "source": [
    "digest1, content1"
   ]
  },
  {
   "cell_type": "code",
   "execution_count": 14,
   "metadata": {},
   "outputs": [
    {
     "data": {
      "text/plain": [
       "[{'length': '4', 'name': 'chr1', 'sequence': 'ACGT'},\n",
       " {'length': '4', 'name': 'chr2', 'sequence': 'TCGA'}]"
      ]
     },
     "execution_count": 14,
     "metadata": {},
     "output_type": "execute_result"
    }
   ],
   "source": [
    "sqdb2.retrieve(digest1)"
   ]
  },
  {
   "cell_type": "code",
   "execution_count": 15,
   "metadata": {},
   "outputs": [
    {
     "name": "stdout",
     "output_type": "stream",
     "text": [
      "d82912969973921cb8cffbfacc711e349363e61b1ad99f4a sequence,ACGT\n",
      "d82912969973921cb8cffbfacc711e349363e61b1ad99f4a_item_type sequence\n",
      "d82912969973921cb8cffbfacc711e349363e61b1ad99f4a_digest_version md5\n",
      "b3384914bd4120dcea6709943a467acc1b510102c9200446 length,4,name,chr1,sequence,d82912969973921cb8cffbfacc711e349363e61b1ad99f4a,topology,linear\n",
      "b3384914bd4120dcea6709943a467acc1b510102c9200446_item_type ASD\n",
      "b3384914bd4120dcea6709943a467acc1b510102c9200446_digest_version md5\n",
      "55b2baaa61e109b00bc94c631981e778d149683ff5b95d7a sequence,TCGA\n",
      "55b2baaa61e109b00bc94c631981e778d149683ff5b95d7a_item_type sequence\n",
      "55b2baaa61e109b00bc94c631981e778d149683ff5b95d7a_digest_version md5\n",
      "58ad19366004fc9e9f4ae94d499bec8b4ffdf41b7dbb4468 length,4,name,chr2,sequence,55b2baaa61e109b00bc94c631981e778d149683ff5b95d7a,topology,linear\n",
      "58ad19366004fc9e9f4ae94d499bec8b4ffdf41b7dbb4468_item_type ASD\n",
      "58ad19366004fc9e9f4ae94d499bec8b4ffdf41b7dbb4468_digest_version md5\n",
      "0fa9bee27d61f92081c6063c922f9508352d940b8c53d53d b3384914bd4120dcea6709943a467acc1b510102c9200446,58ad19366004fc9e9f4ae94d499bec8b4ffdf41b7dbb4468\n",
      "0fa9bee27d61f92081c6063c922f9508352d940b8c53d53d_item_type AnnotatedSequenceList\n",
      "0fa9bee27d61f92081c6063c922f9508352d940b8c53d53d_digest_version md5\n",
      "68a178f7c740c5c240aa67ba41843b119d3bf9f8b0f0ac36 ACGT\n",
      "68a178f7c740c5c240aa67ba41843b119d3bf9f8b0f0ac36_item_type sequence\n",
      "68a178f7c740c5c240aa67ba41843b119d3bf9f8b0f0ac36_digest_version md5\n",
      "cc08127667cfd8b1807dcd8de9c41c61a5ac497a67318591 length,4,name,chr1,sequence,68a178f7c740c5c240aa67ba41843b119d3bf9f8b0f0ac36\n",
      "cc08127667cfd8b1807dcd8de9c41c61a5ac497a67318591_item_type ASD\n",
      "cc08127667cfd8b1807dcd8de9c41c61a5ac497a67318591_digest_version md5\n",
      "3912dddce432f3085c6b4f72a644c4c4c73f07215a9679ce TCGA\n",
      "3912dddce432f3085c6b4f72a644c4c4c73f07215a9679ce_item_type sequence\n",
      "3912dddce432f3085c6b4f72a644c4c4c73f07215a9679ce_digest_version md5\n",
      "a97daae30ecae2e1b87f88f4275a8b9b2f8e02dbbb19e4b4 length,4,name,chr2,sequence,3912dddce432f3085c6b4f72a644c4c4c73f07215a9679ce\n",
      "a97daae30ecae2e1b87f88f4275a8b9b2f8e02dbbb19e4b4_item_type ASD\n",
      "a97daae30ecae2e1b87f88f4275a8b9b2f8e02dbbb19e4b4_digest_version md5\n",
      "4cf8e466ed0c750435042a86789d6b6f0c4c16f2098c6cb0 cc08127667cfd8b1807dcd8de9c41c61a5ac497a67318591,a97daae30ecae2e1b87f88f4275a8b9b2f8e02dbbb19e4b4\n",
      "4cf8e466ed0c750435042a86789d6b6f0c4c16f2098c6cb0_item_type RawSeqCol\n",
      "4cf8e466ed0c750435042a86789d6b6f0c4c16f2098c6cb0_digest_version md5\n"
     ]
    }
   ],
   "source": [
    "sqdb2.show()"
   ]
  },
  {
   "cell_type": "code",
   "execution_count": 17,
   "metadata": {},
   "outputs": [
    {
     "name": "stdout",
     "output_type": "stream",
     "text": [
      "['../seqcol/schemas/TASeqCol.yaml']\n"
     ]
    }
   ],
   "source": [
    "sqdb3 = seqcol.SeqColHenge({}, schemas=[\"../seqcol/schemas/TASeqCol.yaml\"])"
   ]
  },
  {
   "cell_type": "code",
   "execution_count": 18,
   "metadata": {},
   "outputs": [],
   "source": [
    "tadat = {\"topology\": [\"linear\", \"circular\"], \"rawseqcol\": [{'name': 'chr1', 'length': 4, 'sequence': 'ACGT'},\n",
    " {'name': 'chr2', 'length': 4, 'sequence': 'TCGA'}]}"
   ]
  },
  {
   "cell_type": "code",
   "execution_count": 19,
   "metadata": {},
   "outputs": [],
   "source": [
    "digest_ta = sqdb3.insert(tadat, \"TASeqCol\")"
   ]
  },
  {
   "cell_type": "code",
   "execution_count": 20,
   "metadata": {},
   "outputs": [
    {
     "data": {
      "text/plain": [
       "{'rawseqcol': [{'length': '4', 'name': 'chr1', 'sequence': 'ACGT'},\n",
       "  {'length': '4', 'name': 'chr2', 'sequence': 'TCGA'}],\n",
       " 'topology': ['linear', 'circular']}"
      ]
     },
     "execution_count": 20,
     "metadata": {},
     "output_type": "execute_result"
    }
   ],
   "source": [
    "sqdb3.retrieve(digest_ta)"
   ]
  },
  {
   "cell_type": "code",
   "execution_count": 21,
   "metadata": {},
   "outputs": [
    {
     "data": {
      "text/plain": [
       "{'rawseqcol': ['cc08127667cfd8b1807dcd8de9c41c61a5ac497a67318591',\n",
       "  'a97daae30ecae2e1b87f88f4275a8b9b2f8e02dbbb19e4b4'],\n",
       " 'topology': ['linear', 'circular']}"
      ]
     },
     "execution_count": 21,
     "metadata": {},
     "output_type": "execute_result"
    }
   ],
   "source": [
    "sqdb3.retrieve(digest_ta, reclimit=1)"
   ]
  },
  {
   "cell_type": "code",
   "execution_count": 22,
   "metadata": {},
   "outputs": [
    {
     "data": {
      "text/plain": [
       "{'rawseqcol': '4cf8e466ed0c750435042a86789d6b6f0c4c16f2098c6cb0',\n",
       " 'topology': 'd6abc28a8e26eaededde8ccfc77251290fe523abf4292807'}"
      ]
     },
     "execution_count": 22,
     "metadata": {},
     "output_type": "execute_result"
    }
   ],
   "source": [
    "sqdb3.retrieve(digest_ta, reclimit=0)"
   ]
  },
  {
   "cell_type": "code",
   "execution_count": 23,
   "metadata": {},
   "outputs": [
    {
     "name": "stdout",
     "output_type": "stream",
     "text": [
      "No remote URL connected\n"
     ]
    }
   ],
   "source": [
    "sqdb3.retrieve(\"0e6a942e25005983bf54622997ec90cbf34b1c7dce597636\")"
   ]
  },
  {
   "cell_type": "code",
   "execution_count": 29,
   "metadata": {},
   "outputs": [
    {
     "name": "stderr",
     "output_type": "stream",
     "text": [
      "Whoa! A henge-classed primitive type!\n",
      "Whoa! A henge-classed primitive type!\n",
      "Whoa! A henge-classed primitive type!\n"
     ]
    }
   ],
   "source": [
    "\n",
    "digest1, content1 = sqdb3.load_fasta2(fa_file2)"
   ]
  },
  {
   "cell_type": "code",
   "execution_count": null,
   "metadata": {},
   "outputs": [],
   "source": []
  },
  {
   "cell_type": "code",
   "execution_count": null,
   "metadata": {},
   "outputs": [],
   "source": []
  },
  {
   "cell_type": "code",
   "execution_count": 10,
   "metadata": {},
   "outputs": [
    {
     "name": "stderr",
     "output_type": "stream",
     "text": [
      "DEBU 11:12:33 | henge:est:265 > Configured logger 'henge' using logmuse v0.2.6 \n"
     ]
    },
    {
     "data": {
      "text/plain": [
       "<Logger henge (DEBUG)>"
      ]
     },
     "execution_count": 10,
     "metadata": {},
     "output_type": "execute_result"
    }
   ],
   "source": [
    "# If you want you can turn debug text on with this command:\n",
    "import logmuse\n",
    "logmuse.init_logger(\"henge\", \"DEBUG\", devmode=True)"
   ]
  },
  {
   "cell_type": "code",
   "execution_count": 3,
   "metadata": {},
   "outputs": [
    {
     "name": "stdout",
     "output_type": "stream",
     "text": [
      "['../seqcol/schemas/SeqColArraySet.yaml']\n"
     ]
    }
   ],
   "source": [
    "sqdb4 = seqcol.SeqColHenge({}, schemas=[\"../seqcol/schemas/SeqColArraySet.yaml\"])"
   ]
  },
  {
   "cell_type": "code",
   "execution_count": 4,
   "metadata": {},
   "outputs": [
    {
     "data": {
      "text/plain": [
       "Henge object. Item types: SeqColArraySet,array,seqarray,seq"
      ]
     },
     "execution_count": 4,
     "metadata": {},
     "output_type": "execute_result"
    }
   ],
   "source": [
    "sqdb4"
   ]
  },
  {
   "cell_type": "code",
   "execution_count": 5,
   "metadata": {},
   "outputs": [],
   "source": [
    "item = {\"topologies\": [\"linear\", \"circular\"], \"names\": ['chr1', 'chr2'], 'sequences': ['ACGT', 'TCGA'], \n",
    "        'lengths': ['4', '4']}"
   ]
  },
  {
   "cell_type": "code",
   "execution_count": 6,
   "metadata": {},
   "outputs": [],
   "source": [
    "digest = sqdb4.insert(item, \"SeqColArraySet\")"
   ]
  },
  {
   "cell_type": "code",
   "execution_count": 7,
   "metadata": {},
   "outputs": [
    {
     "data": {
      "text/plain": [
       "{'lengths': ['4', '4'],\n",
       " 'names': ['chr1', 'chr2'],\n",
       " 'sequences': ['ACGT', 'TCGA'],\n",
       " 'topologies': ['linear', 'circular']}"
      ]
     },
     "execution_count": 7,
     "metadata": {},
     "output_type": "execute_result"
    }
   ],
   "source": [
    "sqdb4.retrieve(digest)"
   ]
  },
  {
   "cell_type": "code",
   "execution_count": 10,
   "metadata": {},
   "outputs": [
    {
     "data": {
      "text/plain": [
       "{'lengths': ['4', '4'],\n",
       " 'names': ['chr1', 'chr2'],\n",
       " 'sequences': ['68a178f7c740c5c240aa67ba41843b119d3bf9f8b0f0ac36',\n",
       "  '3912dddce432f3085c6b4f72a644c4c4c73f07215a9679ce'],\n",
       " 'topologies': ['linear', 'circular']}"
      ]
     },
     "execution_count": 10,
     "metadata": {},
     "output_type": "execute_result"
    }
   ],
   "source": [
    "sqdb4.retrieve(digest, reclimit=1)"
   ]
  },
  {
   "cell_type": "code",
   "execution_count": 11,
   "metadata": {},
   "outputs": [
    {
     "data": {
      "text/plain": [
       "{'d6abc28a8e26eaededde8ccfc77251290fe523abf4292807': 'linear,circular',\n",
       " 'd6abc28a8e26eaededde8ccfc77251290fe523abf4292807_item_type': 'array',\n",
       " 'd6abc28a8e26eaededde8ccfc77251290fe523abf4292807_digest_version': 'md5',\n",
       " 'bccead699a3e2ba77c277494129c3e0c0e627f68f1d36ec6': 'chr1,chr2',\n",
       " 'bccead699a3e2ba77c277494129c3e0c0e627f68f1d36ec6_item_type': 'array',\n",
       " 'bccead699a3e2ba77c277494129c3e0c0e627f68f1d36ec6_digest_version': 'md5',\n",
       " '68a178f7c740c5c240aa67ba41843b119d3bf9f8b0f0ac36': 'ACGT',\n",
       " '68a178f7c740c5c240aa67ba41843b119d3bf9f8b0f0ac36_item_type': 'seq',\n",
       " '68a178f7c740c5c240aa67ba41843b119d3bf9f8b0f0ac36_digest_version': 'md5',\n",
       " '3912dddce432f3085c6b4f72a644c4c4c73f07215a9679ce': 'TCGA',\n",
       " '3912dddce432f3085c6b4f72a644c4c4c73f07215a9679ce_item_type': 'seq',\n",
       " '3912dddce432f3085c6b4f72a644c4c4c73f07215a9679ce_digest_version': 'md5',\n",
       " 'ca82b053295b6f49923d0b2cedb83de49c6be59688c3dfd9': '68a178f7c740c5c240aa67ba41843b119d3bf9f8b0f0ac36,3912dddce432f3085c6b4f72a644c4c4c73f07215a9679ce',\n",
       " 'ca82b053295b6f49923d0b2cedb83de49c6be59688c3dfd9_item_type': 'seqarray',\n",
       " 'ca82b053295b6f49923d0b2cedb83de49c6be59688c3dfd9_digest_version': 'md5',\n",
       " '94f302915f7e6362d1c80bcf21287f8c54ff1a1f849d4bfd': '4,4',\n",
       " '94f302915f7e6362d1c80bcf21287f8c54ff1a1f849d4bfd_item_type': 'array',\n",
       " '94f302915f7e6362d1c80bcf21287f8c54ff1a1f849d4bfd_digest_version': 'md5',\n",
       " '4d89fcd5cd64a82356ca5ebd0ad90753fdeb8e7098717ade': 'lengths,94f302915f7e6362d1c80bcf21287f8c54ff1a1f849d4bfd,names,bccead699a3e2ba77c277494129c3e0c0e627f68f1d36ec6,sequences,ca82b053295b6f49923d0b2cedb83de49c6be59688c3dfd9,topologies,d6abc28a8e26eaededde8ccfc77251290fe523abf4292807',\n",
       " '4d89fcd5cd64a82356ca5ebd0ad90753fdeb8e7098717ade_item_type': 'SeqColArraySet',\n",
       " '4d89fcd5cd64a82356ca5ebd0ad90753fdeb8e7098717ade_digest_version': 'md5'}"
      ]
     },
     "execution_count": 11,
     "metadata": {},
     "output_type": "execute_result"
    }
   ],
   "source": [
    "sqdb4.database"
   ]
  },
  {
   "cell_type": "code",
   "execution_count": null,
   "metadata": {},
   "outputs": [],
   "source": []
  }
 ],
 "metadata": {
  "kernelspec": {
   "display_name": "Python 3",
   "language": "python",
   "name": "python3"
  },
  "language_info": {
   "codemirror_mode": {
    "name": "ipython",
    "version": 3
   },
   "file_extension": ".py",
   "mimetype": "text/x-python",
   "name": "python",
   "nbconvert_exporter": "python",
   "pygments_lexer": "ipython3",
   "version": "3.8.5"
  }
 },
 "nbformat": 4,
 "nbformat_minor": 4
}
