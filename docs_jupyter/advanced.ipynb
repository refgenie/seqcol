{
 "cells": [
  {
   "cell_type": "markdown",
   "metadata": {},
   "source": [
    "# Refget-py tutorial"
   ]
  },
  {
   "cell_type": "markdown",
   "metadata": {},
   "source": [
    "## Introduction and prerequisites\n",
    "\n",
    "This tutorial will introduce you to the `refget-py` python package. In addition to implementing the basic refget protocol, this tutorial will introduce the possibility of storing not just *sequences*, but *annotated sequence collections*, and other object types. This package is built on top of the `henge` package, which provides a generic ability to store and retrieve any data type.\n",
    "\n",
    "This tutorial assumes you are familiar with the basic refget protocol, and have installed `refget-py` and dependencies.\n"
   ]
  },
  {
   "cell_type": "markdown",
   "metadata": {},
   "source": [
    "To begin, let's import some required packages.  "
   ]
  },
  {
   "cell_type": "code",
   "execution_count": 1,
   "metadata": {},
   "outputs": [
    {
     "data": {
      "text/plain": [
       "'3.8.5'"
      ]
     },
     "execution_count": 1,
     "metadata": {},
     "output_type": "execute_result"
    }
   ],
   "source": [
    "import refget, pymongo, mongodict\n",
    "from henge import connect_mongo\n",
    "from collections import OrderedDict\n",
    "from platform import python_version \n",
    "python_version()"
   ]
  },
  {
   "cell_type": "code",
   "execution_count": 2,
   "metadata": {},
   "outputs": [],
   "source": [
    "# Run this command to increase logging output\n",
    "# import logmuse\n",
    "# logmuse.init_logger(\"refget\", \"DEBUG\", devmode=True)"
   ]
  },
  {
   "cell_type": "markdown",
   "metadata": {},
   "source": [
    "## Initialize the back-end\n",
    "\n",
    "We require some type of database to store the sequences and their digests. The `RefGetHenge` object just needs any object that extends a basic Python `dict`; so a simple `dict` is fine for testing. If you want data to persist, you can use a [MongoDB](https://www.mongodb.com/) instance and a `MongoDict` object on top of it. You can start a mongo database with docker like this:'\n",
    "\n",
    "```\n",
    "docker run -v /PATH/TO/PERSISTENT/DATABASE:/data/db mongo\n",
    "```\n",
    "\n",
    "Populate the USERID, GROUPID, and PATH variables with values for your setup. Now, we'll use a helper function `connect_mongo` to create a `MongoDict` object to use this back-end and use this to instantate a new refget database (`rgdb`) object:"
   ]
  },
  {
   "cell_type": "code",
   "execution_count": 3,
   "metadata": {},
   "outputs": [
    {
     "ename": "AttributeError",
     "evalue": "module 'refget' has no attribute 'RefGetHenge'",
     "output_type": "error",
     "traceback": [
      "\u001b[0;31m---------------------------------------------------------------------------\u001b[0m",
      "\u001b[0;31mAttributeError\u001b[0m                            Traceback (most recent call last)",
      "\u001b[0;32m<ipython-input-3-55a2cecd8904>\u001b[0m in \u001b[0;36m<module>\u001b[0;34m\u001b[0m\n\u001b[0;32m----> 1\u001b[0;31m \u001b[0mrgdb\u001b[0m \u001b[0;34m=\u001b[0m \u001b[0mrefget\u001b[0m\u001b[0;34m.\u001b[0m\u001b[0mRefGetHenge\u001b[0m\u001b[0;34m(\u001b[0m\u001b[0mdatabase\u001b[0m\u001b[0;34m=\u001b[0m\u001b[0mconnect_mongo\u001b[0m\u001b[0;34m(\u001b[0m\u001b[0;34m)\u001b[0m\u001b[0;34m)\u001b[0m\u001b[0;34m\u001b[0m\u001b[0;34m\u001b[0m\u001b[0m\n\u001b[0m",
      "\u001b[0;31mAttributeError\u001b[0m: module 'refget' has no attribute 'RefGetHenge'"
     ]
    }
   ],
   "source": [
    "rgdb = refget.RefGetHenge(database=connect_mongo())"
   ]
  },
  {
   "cell_type": "markdown",
   "metadata": {},
   "source": [
    "We can easily load and retrieve sequences with the `load_seq` and `refget` functions:"
   ]
  },
  {
   "cell_type": "code",
   "execution_count": 3,
   "metadata": {},
   "outputs": [
    {
     "data": {
      "text/plain": [
       "'45d0ff9f1a9504cf2039f89c1ffb4c32'"
      ]
     },
     "execution_count": 3,
     "metadata": {},
     "output_type": "execute_result"
    }
   ],
   "source": [
    "rgdb.load_seq(\"TCGA\")"
   ]
  },
  {
   "cell_type": "markdown",
   "metadata": {},
   "source": [
    "The returned digest is the md5 checksum of the sequence itself."
   ]
  },
  {
   "cell_type": "code",
   "execution_count": 4,
   "metadata": {},
   "outputs": [
    {
     "data": {
      "text/plain": [
       "'45d0ff9f1a9504cf2039f89c1ffb4c32'"
      ]
     },
     "execution_count": 4,
     "metadata": {},
     "output_type": "execute_result"
    }
   ],
   "source": [
    "refget.md5(\"TCGA\")"
   ]
  },
  {
   "cell_type": "code",
   "execution_count": 5,
   "metadata": {},
   "outputs": [
    {
     "data": {
      "text/plain": [
       "{'sequence': 'TCGA'}"
      ]
     },
     "execution_count": 5,
     "metadata": {},
     "output_type": "execute_result"
    }
   ],
   "source": [
    "rgdb.refget(\"45d0ff9f1a9504cf2039f89c1ffb4c32\")"
   ]
  },
  {
   "cell_type": "code",
   "execution_count": 6,
   "metadata": {},
   "outputs": [
    {
     "data": {
      "text/plain": [
       "'TCGA'"
      ]
     },
     "execution_count": 6,
     "metadata": {},
     "output_type": "execute_result"
    }
   ],
   "source": [
    "rgdb.refget(\"45d0ff9f1a9504cf2039f89c1ffb4c32\", postprocess=\"simplify\")"
   ]
  },
  {
   "cell_type": "markdown",
   "metadata": {},
   "source": [
    "## Loading sequence collections\n",
    "\n",
    "The back-end can handle not just raw sequences, but another object type we call *Annotated Sequence Digest Lists* -- these are roughly equivalent to a `fasta` file. In fact, if you have a fasta file, you can load that directly into the database and then retrieve it using its own digest.\n",
    "\n",
    "Let's demonstrate by loading and retreiving some fasta files. Define a few file paths here:"
   ]
  },
  {
   "cell_type": "code",
   "execution_count": 7,
   "metadata": {},
   "outputs": [],
   "source": [
    "fa_file1 = \"demo_fasta/demo.fa.gz\"\n",
    "fa_file2 = \"demo_fasta/demo2.fa.gz\""
   ]
  },
  {
   "cell_type": "markdown",
   "metadata": {},
   "source": [
    "Load a fasta file directly into the database with the `load_fasta` function. The function will return 2 things: First, a *digest* that can be used to retrieve the entire contents of the fasta file, and also the contents (in `dict` form) that were loaded into the database."
   ]
  },
  {
   "cell_type": "code",
   "execution_count": 8,
   "metadata": {
    "scrolled": true
   },
   "outputs": [],
   "source": [
    "digest1, content1 = rgdb.load_fasta(fa_file1)"
   ]
  },
  {
   "cell_type": "code",
   "execution_count": 9,
   "metadata": {},
   "outputs": [
    {
     "data": {
      "text/plain": [
       "'2bcaa3eadf4fea03f55f0c584af05378'"
      ]
     },
     "execution_count": 9,
     "metadata": {},
     "output_type": "execute_result"
    }
   ],
   "source": [
    "digest1"
   ]
  },
  {
   "cell_type": "code",
   "execution_count": 10,
   "metadata": {
    "scrolled": true
   },
   "outputs": [
    {
     "data": {
      "text/plain": [
       "[{'name': 'chr1',\n",
       "  'length': 4,\n",
       "  'topology': 'linear',\n",
       "  'sequence_digest': 'f1f8f4bf413b16ad135722aa4591043e'},\n",
       " {'name': 'chr2',\n",
       "  'length': 4,\n",
       "  'topology': 'linear',\n",
       "  'sequence_digest': '45d0ff9f1a9504cf2039f89c1ffb4c32'}]"
      ]
     },
     "execution_count": 10,
     "metadata": {},
     "output_type": "execute_result"
    }
   ],
   "source": [
    "content1"
   ]
  },
  {
   "cell_type": "markdown",
   "metadata": {},
   "source": [
    "There are a few key concepts here. First, the digest returned here is not the same as the sequence digests we considered previously, because it maps to an *annotated sequence digest list*, rather than just to a sequence. Second, notice the content doesn't include actual sequences; rather, it includes *sequence digests*. These sequence digests can themselves be used with `refget` to retrieve the sequences themselves. In other words, these digests are *recursive*, and this is a critical feature of refget. Because these digests are recursive, we can either set a recursion limit to get the sequence-level digests, or we can set no limit and the `refget` function will recurse to retreive the sequences themselves.\n",
    "\n",
    "Consider the difference between these two function calls:"
   ]
  },
  {
   "cell_type": "code",
   "execution_count": 11,
   "metadata": {},
   "outputs": [
    {
     "data": {
      "text/plain": [
       "[{'name': 'chr1',\n",
       "  'length': '4',\n",
       "  'topology': 'linear',\n",
       "  'sequence_digest': 'f1f8f4bf413b16ad135722aa4591043e'},\n",
       " {'name': 'chr2',\n",
       "  'length': '4',\n",
       "  'topology': 'linear',\n",
       "  'sequence_digest': '45d0ff9f1a9504cf2039f89c1ffb4c32'}]"
      ]
     },
     "execution_count": 11,
     "metadata": {},
     "output_type": "execute_result"
    }
   ],
   "source": [
    "rgdb.refget(digest1, reclimit=0)"
   ]
  },
  {
   "cell_type": "code",
   "execution_count": 12,
   "metadata": {},
   "outputs": [
    {
     "data": {
      "text/plain": [
       "[{'name': 'chr1',\n",
       "  'length': '4',\n",
       "  'topology': 'linear',\n",
       "  'sequence_digest': {'sequence': 'ACGT'}},\n",
       " {'name': 'chr2',\n",
       "  'length': '4',\n",
       "  'topology': 'linear',\n",
       "  'sequence_digest': {'sequence': 'TCGA'}}]"
      ]
     },
     "execution_count": 12,
     "metadata": {},
     "output_type": "execute_result"
    }
   ],
   "source": [
    "rgdb.refget(digest1)"
   ]
  },
  {
   "cell_type": "markdown",
   "metadata": {},
   "source": [
    "By default, the `refget` function will automatically recurse to return the full sequences contained within. You can use the result like this or pass it through the `fasta_fmt` function to retrieve the original fasta file."
   ]
  },
  {
   "cell_type": "code",
   "execution_count": 13,
   "metadata": {},
   "outputs": [
    {
     "name": "stdout",
     "output_type": "stream",
     "text": [
      ">chr1\n",
      "ACGT\n",
      ">chr2\n",
      "TCGA\n"
     ]
    }
   ],
   "source": [
    "print(rgdb.fasta_fmt(rgdb.refget(digest1)))"
   ]
  },
  {
   "cell_type": "markdown",
   "metadata": {},
   "source": [
    "Here's an example of a second fasta file that includes 2 of the same sequences. The database is smart enough to only store these sequences a single time, but they can live in multiple collections without issue."
   ]
  },
  {
   "cell_type": "code",
   "execution_count": 14,
   "metadata": {},
   "outputs": [],
   "source": [
    "digest2, content2 = rgdb.load_fasta(fa_file2)"
   ]
  },
  {
   "cell_type": "code",
   "execution_count": 15,
   "metadata": {
    "scrolled": true
   },
   "outputs": [
    {
     "data": {
      "text/plain": [
       "[{'name': 'chr1',\n",
       "  'length': '4',\n",
       "  'topology': 'linear',\n",
       "  'sequence_digest': {'sequence': 'ACGT'}},\n",
       " {'name': 'chr2',\n",
       "  'length': '4',\n",
       "  'topology': 'linear',\n",
       "  'sequence_digest': {'sequence': 'TCGA'}},\n",
       " {'name': 'chrX',\n",
       "  'length': '8',\n",
       "  'topology': 'linear',\n",
       "  'sequence_digest': {'sequence': 'TTCCGGAA'}}]"
      ]
     },
     "execution_count": 15,
     "metadata": {},
     "output_type": "execute_result"
    }
   ],
   "source": [
    "rgdb.refget(digest2)"
   ]
  },
  {
   "cell_type": "code",
   "execution_count": 16,
   "metadata": {},
   "outputs": [
    {
     "name": "stdout",
     "output_type": "stream",
     "text": [
      ">chr1\n",
      "ACGT\n",
      ">chr2\n",
      "TCGA\n",
      ">chrX\n",
      "TTCCGGAA\n"
     ]
    }
   ],
   "source": [
    "print(rgdb.fasta_fmt(rgdb.refget(digest2)))"
   ]
  },
  {
   "cell_type": "markdown",
   "metadata": {},
   "source": [
    "## Comparing sequence collections\n",
    "\n",
    "We may be interested in if collections have the same sequences in different order, or with different names. The `compare` function can provide this information. Let's load some example fasta files with different sequences to demonstrate how the comparisons work.\n",
    "\n",
    "Now we can compare the content in `digest1` versus `digest2`. Notice that the 2 sequences in the first example are found in the second example, which adds a third sequence."
   ]
  },
  {
   "cell_type": "code",
   "execution_count": 19,
   "metadata": {},
   "outputs": [
    {
     "data": {
      "text/plain": [
       "6165"
      ]
     },
     "execution_count": 19,
     "metadata": {},
     "output_type": "execute_result"
    }
   ],
   "source": [
    "rgdb.compare(digest1, digest2)"
   ]
  },
  {
   "cell_type": "markdown",
   "metadata": {},
   "source": [
    "The compare function returns a flag that provides information about the comparison. This allows us to use logical operators to test what features were shared among the sequence collections, similar to the way we use sam flags to identify features of sequence reads. \n",
    "\n",
    "We can see the explanation of the flags like this: "
   ]
  },
  {
   "cell_type": "code",
   "execution_count": 20,
   "metadata": {},
   "outputs": [
    {
     "data": {
      "text/plain": [
       "{1: 'CONTENT_ALL_A_IN_B',\n",
       " 2: 'CONTENT_ALL_B_IN_A',\n",
       " 4: 'LENGTHS_ALL_A_IN_B',\n",
       " 8: 'LENGTHS_ALL_B_IN_A',\n",
       " 16: 'NAMES_ALL_A_IN_B',\n",
       " 32: 'NAMES_ALL_B_IN_A',\n",
       " 64: 'TOPO_ALL_A_IN_B',\n",
       " 128: 'TOPO_ALL_B_IN_A',\n",
       " 256: 'CONTENT_ANY_SHARED',\n",
       " 512: 'LENGTHS_ANY_SHARED',\n",
       " 1024: 'NAMES_ANY_SHARED',\n",
       " 2048: 'CONTENT_A_ORDER',\n",
       " 4096: 'CONTENT_B_ORDER'}"
      ]
     },
     "execution_count": 20,
     "metadata": {},
     "output_type": "execute_result"
    }
   ],
   "source": [
    "refget.FLAGS"
   ]
  },
  {
   "cell_type": "markdown",
   "metadata": {},
   "source": [
    "So we can use this to ask questions, like, \"Are all of the sequence in A contained in B?\":"
   ]
  },
  {
   "cell_type": "code",
   "execution_count": 21,
   "metadata": {},
   "outputs": [
    {
     "data": {
      "text/plain": [
       "True"
      ]
     },
     "execution_count": 21,
     "metadata": {},
     "output_type": "execute_result"
    }
   ],
   "source": [
    "rgdb.compare(digest1, digest2) & 1 == 1"
   ]
  },
  {
   "cell_type": "markdown",
   "metadata": {},
   "source": [
    "Now to ask the inverse question:"
   ]
  },
  {
   "cell_type": "code",
   "execution_count": 22,
   "metadata": {},
   "outputs": [
    {
     "data": {
      "text/plain": [
       "False"
      ]
     },
     "execution_count": 22,
     "metadata": {},
     "output_type": "execute_result"
    }
   ],
   "source": [
    "rgdb.compare(digest1, digest2) & 2 == 2"
   ]
  },
  {
   "cell_type": "markdown",
   "metadata": {},
   "source": [
    "Or, to ask both at the same time:"
   ]
  },
  {
   "cell_type": "code",
   "execution_count": 23,
   "metadata": {},
   "outputs": [
    {
     "data": {
      "text/plain": [
       "False"
      ]
     },
     "execution_count": 23,
     "metadata": {},
     "output_type": "execute_result"
    }
   ],
   "source": [
    "rgdb.compare(digest1, digest2) & 3 == 3"
   ]
  },
  {
   "cell_type": "markdown",
   "metadata": {},
   "source": [
    "As expected, we see that the all of A sequences are in B, but not the other way around. If the \"&3\" query yielded `True`, that would indicate that the sequence content was identical. We can demonstrate this by running a comparison to the same digest:"
   ]
  },
  {
   "cell_type": "code",
   "execution_count": 24,
   "metadata": {},
   "outputs": [
    {
     "data": {
      "text/plain": [
       "True"
      ]
     },
     "execution_count": 24,
     "metadata": {},
     "output_type": "execute_result"
    }
   ],
   "source": [
    "rgdb.compare(digest1, digest1) & 3 == 3"
   ]
  },
  {
   "cell_type": "markdown",
   "metadata": {},
   "source": [
    "From this flag we can see that the all of the content (sequences) in A are in B, but not the other way around. Furthermore, the lengths in A all match with B (which *must* be true, since the content matches), and also the *names* match, which does not necessarily have to be true.\n",
    "\n",
    "Let's load some additional fasta files to demonstrate a few more comparisons."
   ]
  },
  {
   "cell_type": "code",
   "execution_count": 25,
   "metadata": {},
   "outputs": [],
   "source": [
    "fa_file3 = \"demo_fasta/demo3.fa\"\n",
    "fa_file4 = \"demo_fasta/demo4.fa\""
   ]
  },
  {
   "cell_type": "code",
   "execution_count": 26,
   "metadata": {},
   "outputs": [
    {
     "data": {
      "text/plain": [
       "[{'name': '1',\n",
       "  'length': '4',\n",
       "  'topology': 'linear',\n",
       "  'sequence_digest': {'sequence': 'ACGT'}},\n",
       " {'name': '2',\n",
       "  'length': '4',\n",
       "  'topology': 'linear',\n",
       "  'sequence_digest': {'sequence': 'TCGA'}},\n",
       " {'name': 'X',\n",
       "  'length': '8',\n",
       "  'topology': 'linear',\n",
       "  'sequence_digest': {'sequence': 'TTCCGGAA'}}]"
      ]
     },
     "execution_count": 26,
     "metadata": {},
     "output_type": "execute_result"
    }
   ],
   "source": [
    "digest3, content3 = rgdb.load_fasta(fa_file3)\n",
    "rgdb.refget(digest3)"
   ]
  },
  {
   "cell_type": "markdown",
   "metadata": {},
   "source": [
    "The `demo3` file has the exact same sequence content as demo2, but the names are different. The compare function shows that the content and lengths match and are in the same order, but the name match flag is not set:"
   ]
  },
  {
   "cell_type": "code",
   "execution_count": 27,
   "metadata": {},
   "outputs": [
    {
     "name": "stdout",
     "output_type": "stream",
     "text": [
      "Flag: 6159\n",
      "Binary: 0b1100000001111\n",
      "\n",
      "CONTENT_ALL_A_IN_B\n",
      "CONTENT_ALL_B_IN_A\n",
      "LENGTHS_ALL_A_IN_B\n",
      "LENGTHS_ALL_B_IN_A\n",
      "CONTENT_A_ORDER\n",
      "CONTENT_B_ORDER\n"
     ]
    },
    {
     "data": {
      "text/plain": [
       "6159"
      ]
     },
     "execution_count": 27,
     "metadata": {},
     "output_type": "execute_result"
    }
   ],
   "source": [
    "rgdb.compare(digest2, digest3, explain=True)"
   ]
  },
  {
   "cell_type": "markdown",
   "metadata": {},
   "source": [
    "The `demo4` example contains one of the sequences in `demo2`, but has no overlap with `demo1`:"
   ]
  },
  {
   "cell_type": "code",
   "execution_count": 28,
   "metadata": {},
   "outputs": [
    {
     "data": {
      "text/plain": [
       "[{'name': 'chrX',\n",
       "  'length': '8',\n",
       "  'topology': 'linear',\n",
       "  'sequence_digest': {'sequence': 'TTCCGGAA'}}]"
      ]
     },
     "execution_count": 28,
     "metadata": {},
     "output_type": "execute_result"
    }
   ],
   "source": [
    "digest4, content4 = rgdb.load_fasta(fa_file4)\n",
    "rgdb.refget(digest4)"
   ]
  },
  {
   "cell_type": "code",
   "execution_count": 29,
   "metadata": {},
   "outputs": [
    {
     "name": "stdout",
     "output_type": "stream",
     "text": [
      "Flag: 21\n",
      "Binary: 0b10101\n",
      "\n",
      "CONTENT_ALL_A_IN_B\n",
      "LENGTHS_ALL_A_IN_B\n",
      "NAMES_ALL_A_IN_B\n"
     ]
    },
    {
     "data": {
      "text/plain": [
       "21"
      ]
     },
     "execution_count": 29,
     "metadata": {},
     "output_type": "execute_result"
    }
   ],
   "source": [
    "rgdb.compare(digest4, digest2, explain=True)"
   ]
  },
  {
   "cell_type": "code",
   "execution_count": 30,
   "metadata": {},
   "outputs": [
    {
     "name": "stdout",
     "output_type": "stream",
     "text": [
      "Flag: 0\n",
      "Binary: 0b0\n",
      "\n"
     ]
    },
    {
     "data": {
      "text/plain": [
       "0"
      ]
     },
     "execution_count": 30,
     "metadata": {},
     "output_type": "execute_result"
    }
   ],
   "source": [
    "rgdb.compare(digest4, digest1, explain=True)"
   ]
  },
  {
   "cell_type": "markdown",
   "metadata": {},
   "source": [
    "## Sequence reference compatibility\n",
    "\n",
    "We may be interested in comparing the compatibilty of the assembly, rather than the sequences themselves. We can do this using the same comparison function, but this time testing against a version of the genome that lacks actual sequences. Here, we'll insert a 'lengths only' ASDList into the database, which has lengths and topologies but no actual sequences. This is analogous to a `chrom_sizes` file which doesn't care about underlying sequences."
   ]
  },
  {
   "cell_type": "code",
   "execution_count": 31,
   "metadata": {},
   "outputs": [
    {
     "data": {
      "text/plain": [
       "[{'name': 'chr1', 'length': '4', 'topology': 'linear', 'sequence_digest': ''},\n",
       " {'name': 'chr2', 'length': '4', 'topology': 'linear', 'sequence_digest': ''},\n",
       " {'name': 'chrX', 'length': '8', 'topology': 'linear', 'sequence_digest': ''}]"
      ]
     },
     "execution_count": 31,
     "metadata": {},
     "output_type": "execute_result"
    }
   ],
   "source": [
    "fa_file5 = \"demo_fasta/demo5.fa\"\n",
    "digest5, content5 = rgdb.load_fasta(fa_file5, lengths_only=True)\n",
    "rgdb.refget(digest5)"
   ]
  },
  {
   "cell_type": "markdown",
   "metadata": {},
   "source": [
    "These are compatible with the `demo2` file in length and name. You can ask that with \"& 60\"."
   ]
  },
  {
   "cell_type": "code",
   "execution_count": 32,
   "metadata": {},
   "outputs": [
    {
     "name": "stdout",
     "output_type": "stream",
     "text": [
      "Flag: 60\n",
      "Binary: 0b111100\n",
      "\n",
      "LENGTHS_ALL_A_IN_B\n",
      "LENGTHS_ALL_B_IN_A\n",
      "NAMES_ALL_A_IN_B\n",
      "NAMES_ALL_B_IN_A\n"
     ]
    },
    {
     "data": {
      "text/plain": [
       "60"
      ]
     },
     "execution_count": 32,
     "metadata": {},
     "output_type": "execute_result"
    }
   ],
   "source": [
    "rgdb.compare(digest5, digest2, explain=True)"
   ]
  },
  {
   "cell_type": "code",
   "execution_count": 33,
   "metadata": {},
   "outputs": [
    {
     "data": {
      "text/plain": [
       "True"
      ]
     },
     "execution_count": 33,
     "metadata": {},
     "output_type": "execute_result"
    }
   ],
   "source": [
    "rgdb.compare(digest5, digest2) & 60 == 60"
   ]
  },
  {
   "cell_type": "markdown",
   "metadata": {},
   "source": [
    "This is a very useful functionality that allows us to use this system not only to identify sequence matches, but also to establish reference assembly compatibility for questions that do not require strict sequence identity. For example, for a given genome reference, we can create a sequence-agnostic but length-enforced ASDList object and stick it into the database to get back a digest. Now, we can use the compare function to ensure that any future sequences are compatible with this reference assembly."
   ]
  },
  {
   "cell_type": "markdown",
   "metadata": {},
   "source": [
    "# 3-layer refget\n",
    "\n",
    "It is also possible to continue this recursion to another layer. To demonstrate, let's make a sequence that consists of 2 fasta files checksums, and load that into the database.\n",
    "\n",
    "This type of object is called an *Annotated Collection Digest List*, or *ACDList*, because it's a list of named collection digests. The RefGetHenge object will allow you to see what of its objects types would validate your given object. Here, we see that this henge would recognize this as validating the *ACDList* object type."
   ]
  },
  {
   "cell_type": "code",
   "execution_count": 34,
   "metadata": {},
   "outputs": [],
   "source": [
    "ACDList = [{\"name\": \"demo1\", \"collection_digest\": digest1},\n",
    "           {\"name\":\" demo2\", \"collection_digest\": digest2}]"
   ]
  },
  {
   "cell_type": "code",
   "execution_count": 35,
   "metadata": {},
   "outputs": [
    {
     "data": {
      "text/plain": [
       "['ACDList']"
      ]
     },
     "execution_count": 35,
     "metadata": {},
     "output_type": "execute_result"
    }
   ],
   "source": [
    "rgdb.select_item_type(ACDList)"
   ]
  },
  {
   "cell_type": "code",
   "execution_count": 36,
   "metadata": {},
   "outputs": [],
   "source": [
    "acdl_digest = rgdb.insert(ACDList, \"ACDList\")"
   ]
  },
  {
   "cell_type": "markdown",
   "metadata": {},
   "source": [
    "Can we retrieve it? You bet! At any recursion level:"
   ]
  },
  {
   "cell_type": "code",
   "execution_count": 37,
   "metadata": {},
   "outputs": [
    {
     "data": {
      "text/plain": [
       "[{'name': 'demo1',\n",
       "  'collection_digest': [{'name': 'chr1',\n",
       "    'length': '4',\n",
       "    'topology': 'linear',\n",
       "    'sequence_digest': {'sequence': 'ACGT'}},\n",
       "   {'name': 'chr2',\n",
       "    'length': '4',\n",
       "    'topology': 'linear',\n",
       "    'sequence_digest': {'sequence': 'TCGA'}}]},\n",
       " {'name': ' demo2',\n",
       "  'collection_digest': [{'name': 'chr1',\n",
       "    'length': '4',\n",
       "    'topology': 'linear',\n",
       "    'sequence_digest': {'sequence': 'ACGT'}},\n",
       "   {'name': 'chr2',\n",
       "    'length': '4',\n",
       "    'topology': 'linear',\n",
       "    'sequence_digest': {'sequence': 'TCGA'}},\n",
       "   {'name': 'chrX',\n",
       "    'length': '8',\n",
       "    'topology': 'linear',\n",
       "    'sequence_digest': {'sequence': 'TTCCGGAA'}}]}]"
      ]
     },
     "execution_count": 37,
     "metadata": {},
     "output_type": "execute_result"
    }
   ],
   "source": [
    "rgdb.refget(acdl_digest)"
   ]
  },
  {
   "cell_type": "code",
   "execution_count": 38,
   "metadata": {},
   "outputs": [
    {
     "data": {
      "text/plain": [
       "[{'name': 'demo1', 'collection_digest': '2bcaa3eadf4fea03f55f0c584af05378'},\n",
       " {'name': ' demo2', 'collection_digest': '1cabbd10bf54f733718f0d3bc786dc3b'}]"
      ]
     },
     "execution_count": 38,
     "metadata": {},
     "output_type": "execute_result"
    }
   ],
   "source": [
    "rgdb.refget(acdl_digest, reclimit=0)"
   ]
  },
  {
   "cell_type": "code",
   "execution_count": 39,
   "metadata": {},
   "outputs": [
    {
     "data": {
      "text/plain": [
       "[{'name': 'demo1',\n",
       "  'collection_digest': [{'name': 'chr1',\n",
       "    'length': '4',\n",
       "    'topology': 'linear',\n",
       "    'sequence_digest': 'f1f8f4bf413b16ad135722aa4591043e'},\n",
       "   {'name': 'chr2',\n",
       "    'length': '4',\n",
       "    'topology': 'linear',\n",
       "    'sequence_digest': '45d0ff9f1a9504cf2039f89c1ffb4c32'}]},\n",
       " {'name': ' demo2',\n",
       "  'collection_digest': [{'name': 'chr1',\n",
       "    'length': '4',\n",
       "    'topology': 'linear',\n",
       "    'sequence_digest': 'f1f8f4bf413b16ad135722aa4591043e'},\n",
       "   {'name': 'chr2',\n",
       "    'length': '4',\n",
       "    'topology': 'linear',\n",
       "    'sequence_digest': '45d0ff9f1a9504cf2039f89c1ffb4c32'},\n",
       "   {'name': 'chrX',\n",
       "    'length': '8',\n",
       "    'topology': 'linear',\n",
       "    'sequence_digest': 'adbd2580b1cb145667c79baf9bfd391a'}]}]"
      ]
     },
     "execution_count": 39,
     "metadata": {},
     "output_type": "execute_result"
    }
   ],
   "source": [
    "rgdb.refget(acdl_digest, reclimit=1)"
   ]
  },
  {
   "cell_type": "code",
   "execution_count": 40,
   "metadata": {},
   "outputs": [
    {
     "data": {
      "text/plain": [
       "[{'name': 'demo1',\n",
       "  'collection_digest': [{'name': 'chr1',\n",
       "    'length': '4',\n",
       "    'topology': 'linear',\n",
       "    'sequence_digest': {'sequence': 'ACGT'}},\n",
       "   {'name': 'chr2',\n",
       "    'length': '4',\n",
       "    'topology': 'linear',\n",
       "    'sequence_digest': {'sequence': 'TCGA'}}]},\n",
       " {'name': ' demo2',\n",
       "  'collection_digest': [{'name': 'chr1',\n",
       "    'length': '4',\n",
       "    'topology': 'linear',\n",
       "    'sequence_digest': {'sequence': 'ACGT'}},\n",
       "   {'name': 'chr2',\n",
       "    'length': '4',\n",
       "    'topology': 'linear',\n",
       "    'sequence_digest': {'sequence': 'TCGA'}},\n",
       "   {'name': 'chrX',\n",
       "    'length': '8',\n",
       "    'topology': 'linear',\n",
       "    'sequence_digest': {'sequence': 'TTCCGGAA'}}]}]"
      ]
     },
     "execution_count": 40,
     "metadata": {},
     "output_type": "execute_result"
    }
   ],
   "source": [
    "rgdb.refget(acdl_digest, reclimit=2)"
   ]
  },
  {
   "cell_type": "markdown",
   "metadata": {},
   "source": [
    "## Under the hood: using the raw henge interface\n",
    "\n",
    "Under the hood, the RefGetHenge is just a specialized class of `Henge` that provides convenience functions for dealing with sequences and sequence collections. Henge is a python package that builds back-ends for generic decomposable recursive unique identifiers (or, *druids*). It is intended to be used as a building block for refget 2.0 on collections, and also for other data types that need content-derived identifiers.\n",
    "\n",
    "Henge provides 2 key advances:\n",
    "\n",
    "- **decomposing**: identifiers in henge can retrieve tuples, not just sequences. These tuples can be tailored with a simple json schema document, so that henge can be used as a back-end for arbitrary data.\n",
    "\n",
    "- **recursion**: individual elements retrieved by the henge object can be tagged as recursive, which means these attributes contain their own druids. Henge can recurse through these, providing arbitrary, multi-layer object retrieval.\n",
    "\n",
    "\n",
    "To demonstrate how henge works as the back-end for the refget-py package, we'll now show  use the raw henge interface directly, if you want to wrap the metadata yourself.\n",
    "\n",
    "The way a henge works is that we have to specify what item types it can hold using schemas written in JSON-schema. The RefGetHenge knows about 5 different item types:"
   ]
  },
  {
   "cell_type": "code",
   "execution_count": 43,
   "metadata": {},
   "outputs": [
    {
     "data": {
      "text/plain": [
       "['sequence', 'ASD', 'ASDList', 'ACDList', 'ACD']"
      ]
     },
     "execution_count": 43,
     "metadata": {},
     "output_type": "execute_result"
    }
   ],
   "source": [
    "rgdb.item_types"
   ]
  },
  {
   "cell_type": "markdown",
   "metadata": {},
   "source": [
    "We'll look more closely at these schemas in a moment. You can look through the actual schemas by looking at `rgdb.schemas`; for example, the `sequence` schema is quite simple:"
   ]
  },
  {
   "cell_type": "code",
   "execution_count": 44,
   "metadata": {},
   "outputs": [
    {
     "data": {
      "text/plain": [
       "{'description': 'Schema for a single raw sequence',\n",
       " 'type': 'object',\n",
       " 'properties': {'sequence': {'type': 'string',\n",
       "   'description': 'Actual sequence content'}},\n",
       " 'required': ['sequence']}"
      ]
     },
     "execution_count": 44,
     "metadata": {},
     "output_type": "execute_result"
    }
   ],
   "source": [
    "rgdb.schemas[\"sequence\"]"
   ]
  },
  {
   "cell_type": "markdown",
   "metadata": {},
   "source": [
    "The RefGetHenge class, handles all the object type control for you; it knows for example to insert a sequence as a 'sequence' object, and a fasta file as an 'ASDList' object. But, you can also use the base `Henge` interface to do this as well; all you have to do is insert the objects as `dicts` or `lists`, with the appropriate properties populated. Here's how we could insert some sequences directly:"
   ]
  },
  {
   "cell_type": "code",
   "execution_count": 45,
   "metadata": {},
   "outputs": [],
   "source": [
    "item_seq1 = {'sequence': \"TCGA\"}\n",
    "item_seq2 = {'sequence': \"TCGATCGATCGATCGA\"}\n",
    "item_seq3 = {'sequence': \"GGAA\"}\n",
    "item_seq4 = {'sequence': \"CGGCCCGGCGC\"}\n",
    "\n",
    "druid_seq1 = rgdb.insert(item_seq1, \"sequence\")\n",
    "druid_seq2 = rgdb.insert(item_seq2, \"sequence\")\n",
    "druid_seq3 = rgdb.insert(item_seq3, \"sequence\")\n",
    "druid_seq4 = rgdb.insert(item_seq4, \"sequence\")\n"
   ]
  },
  {
   "cell_type": "markdown",
   "metadata": {},
   "source": [
    "Now, we can also insert *Annotated Sequence Digests* (ASDs):"
   ]
  },
  {
   "cell_type": "code",
   "execution_count": 46,
   "metadata": {},
   "outputs": [],
   "source": [
    "asd1 = {'sequence_digest': druid_seq1,\n",
    "        'name': \"chr1\",\n",
    "        'length': 10, \n",
    "        'topology': \"linear\"}\n",
    "asd2 = {'sequence_digest': druid_seq2,\n",
    "        'name': \"chr2\",\n",
    "        'length': 20, \n",
    "        'topology': \"linear\"}\n",
    "asd3 = {'sequence_digest': druid_seq3,\n",
    "        'name': \"chr3\",\n",
    "        'length': 30, \n",
    "        'topology': \"circular\"}\n",
    "asd4 = {'sequence_digest': druid_seq4,\n",
    "        'name': \"chr4::mod\",\n",
    "        'length': 40, \n",
    "        'topology': \"linear\"}                "
   ]
  },
  {
   "cell_type": "code",
   "execution_count": 47,
   "metadata": {
    "scrolled": true
   },
   "outputs": [],
   "source": [
    "druid_asd1 = rgdb.insert(asd1, \"ASD\")"
   ]
  },
  {
   "cell_type": "markdown",
   "metadata": {},
   "source": [
    "Take a look at the schema for an ASD object. Notice that the `sequence_digest` attribute is marked as `recursive` -- this means the henge will automatically know that upon retrieving one of these objects, that particular property could be recursively retrieved to get another object from the back-end."
   ]
  },
  {
   "cell_type": "code",
   "execution_count": 48,
   "metadata": {},
   "outputs": [
    {
     "data": {
      "text/plain": [
       "{'description': 'Schema for an Annotated Sequence Digest; a digested Sequence plus metadata',\n",
       " 'type': 'object',\n",
       " 'properties': {'name': {'type': 'string'},\n",
       "  'length': {'type': 'integer'},\n",
       "  'topology': {'type': 'string',\n",
       "   'enum': ['circular', 'linear'],\n",
       "   'default': 'linear'},\n",
       "  'sequence_digest': {'type': 'string', 'description': 'The sequence digest'}},\n",
       " 'required': ['length', 'name', 'topology'],\n",
       " 'recursive': ['sequence_digest'],\n",
       " 'not': {'required': ['sequence']}}"
      ]
     },
     "execution_count": 48,
     "metadata": {},
     "output_type": "execute_result"
    }
   ],
   "source": [
    "rgdb.schemas[\"ASD\"]"
   ]
  },
  {
   "cell_type": "code",
   "execution_count": 49,
   "metadata": {},
   "outputs": [
    {
     "data": {
      "text/plain": [
       "{'name': 'chr1',\n",
       " 'length': '10',\n",
       " 'topology': 'linear',\n",
       " 'sequence_digest': {'sequence': 'TCGA'}}"
      ]
     },
     "execution_count": 49,
     "metadata": {},
     "output_type": "execute_result"
    }
   ],
   "source": [
    "rgdb.refget(druid_asd1)"
   ]
  },
  {
   "cell_type": "code",
   "execution_count": 50,
   "metadata": {},
   "outputs": [
    {
     "data": {
      "text/plain": [
       "{'name': 'chr1',\n",
       " 'length': '10',\n",
       " 'topology': 'linear',\n",
       " 'sequence_digest': '45d0ff9f1a9504cf2039f89c1ffb4c32'}"
      ]
     },
     "execution_count": 50,
     "metadata": {},
     "output_type": "execute_result"
    }
   ],
   "source": [
    "rgdb.refget(druid_asd1, reclimit=0)"
   ]
  },
  {
   "cell_type": "code",
   "execution_count": 51,
   "metadata": {},
   "outputs": [
    {
     "data": {
      "text/plain": [
       "{'sequence': 'TCGA'}"
      ]
     },
     "execution_count": 51,
     "metadata": {},
     "output_type": "execute_result"
    }
   ],
   "source": [
    "rgdb.refget(druid_seq1)"
   ]
  },
  {
   "cell_type": "markdown",
   "metadata": {},
   "source": [
    "And here we can insert ASDLists (which are, of course, simply lists of ASD objects):"
   ]
  },
  {
   "cell_type": "code",
   "execution_count": 52,
   "metadata": {},
   "outputs": [],
   "source": [
    "druid_asdlist1 = rgdb.insert([asd1, asd2], \"ASDList\")\n",
    "druid_asdlist2 = rgdb.insert([asd3, asd4], \"ASDList\")"
   ]
  },
  {
   "cell_type": "code",
   "execution_count": 53,
   "metadata": {},
   "outputs": [
    {
     "data": {
      "text/plain": [
       "[{'name': 'chr1',\n",
       "  'length': '10',\n",
       "  'topology': 'linear',\n",
       "  'sequence_digest': {'sequence': 'TCGA'}},\n",
       " {'name': 'chr2',\n",
       "  'length': '20',\n",
       "  'topology': 'linear',\n",
       "  'sequence_digest': {'sequence': 'TCGATCGATCGATCGA'}}]"
      ]
     },
     "execution_count": 53,
     "metadata": {},
     "output_type": "execute_result"
    }
   ],
   "source": [
    "rgdb.refget(druid_asdlist1)"
   ]
  },
  {
   "cell_type": "code",
   "execution_count": 54,
   "metadata": {},
   "outputs": [],
   "source": [
    "acd1 = {'collection_digest': druid_asdlist1,\n",
    "        'name': \"fasta1\"} \n",
    "acd2 = {'collection_digest': druid_asdlist2,\n",
    "        'name': \"fasta2\"} \n",
    "\n",
    "druid_acdlist = rgdb.insert([acd1, acd2], \"ACDList\")    "
   ]
  },
  {
   "cell_type": "code",
   "execution_count": 55,
   "metadata": {},
   "outputs": [
    {
     "data": {
      "text/plain": [
       "'6eaefa29f5e59d6f93e723c02fb6d5fb'"
      ]
     },
     "execution_count": 55,
     "metadata": {},
     "output_type": "execute_result"
    }
   ],
   "source": [
    "druid_acdlist"
   ]
  },
  {
   "cell_type": "markdown",
   "metadata": {},
   "source": [
    "### How items are stored"
   ]
  },
  {
   "cell_type": "markdown",
   "metadata": {},
   "source": [
    "Refget stores the items as delimited strings. It uses the schemas to map the stored, delimited properties to the correct properties when the item is returned. It builds a string with two delimiters, a *property delimiter* that separates the individual properties, in the order listed in the schema, and it uses an *item delimiter* to delimit items in lists in the order given.\n",
    "\n",
    "The `sequence` objects are really simple; they have only 1 property, named `sequence`:"
   ]
  },
  {
   "cell_type": "code",
   "execution_count": 56,
   "metadata": {},
   "outputs": [
    {
     "data": {
      "text/plain": [
       "{'description': 'Schema for a single raw sequence',\n",
       " 'type': 'object',\n",
       " 'properties': {'sequence': {'type': 'string',\n",
       "   'description': 'Actual sequence content'}},\n",
       " 'required': ['sequence']}"
      ]
     },
     "execution_count": 56,
     "metadata": {},
     "output_type": "execute_result"
    }
   ],
   "source": [
    "rgdb.schemas[\"sequence\"]"
   ]
  },
  {
   "cell_type": "markdown",
   "metadata": {},
   "source": [
    "They are thus stored in the database as is; no delimiters are required because there is only 1 property, and no possibility of listing more than one item."
   ]
  },
  {
   "cell_type": "code",
   "execution_count": 57,
   "metadata": {},
   "outputs": [
    {
     "data": {
      "text/plain": [
       "'TCGA'"
      ]
     },
     "execution_count": 57,
     "metadata": {},
     "output_type": "execute_result"
    }
   ],
   "source": [
    "rgdb.database[druid_seq1]"
   ]
  },
  {
   "cell_type": "markdown",
   "metadata": {},
   "source": [
    "The ASD objects have multiple properties, so they are stored as a delimited set of properties, ordered by the schema:"
   ]
  },
  {
   "cell_type": "code",
   "execution_count": 58,
   "metadata": {},
   "outputs": [
    {
     "data": {
      "text/plain": [
       "{'description': 'Schema for an Annotated Sequence Digest; a digested Sequence plus metadata',\n",
       " 'type': 'object',\n",
       " 'properties': {'name': {'type': 'string'},\n",
       "  'length': {'type': 'integer'},\n",
       "  'topology': {'type': 'string',\n",
       "   'enum': ['circular', 'linear'],\n",
       "   'default': 'linear'},\n",
       "  'sequence_digest': {'type': 'string', 'description': 'The sequence digest'}},\n",
       " 'required': ['length', 'name', 'topology'],\n",
       " 'recursive': ['sequence_digest'],\n",
       " 'not': {'required': ['sequence']}}"
      ]
     },
     "execution_count": 58,
     "metadata": {},
     "output_type": "execute_result"
    }
   ],
   "source": [
    "rgdb.schemas[\"ASD\"]"
   ]
  },
  {
   "cell_type": "code",
   "execution_count": 59,
   "metadata": {},
   "outputs": [
    {
     "data": {
      "text/plain": [
       "'chr1\\x1e10\\x1elinear\\x1e45d0ff9f1a9504cf2039f89c1ffb4c32'"
      ]
     },
     "execution_count": 59,
     "metadata": {},
     "output_type": "execute_result"
    }
   ],
   "source": [
    "rgdb.database[druid_asd1]"
   ]
  },
  {
   "cell_type": "markdown",
   "metadata": {},
   "source": [
    "ASDList objects are defined as lists, so they can hold more than one item. The items themselves are simply ASD objects; ASDLists are therefore stored as item-delimited strings, with a property-delimited string for each item."
   ]
  },
  {
   "cell_type": "code",
   "execution_count": 60,
   "metadata": {},
   "outputs": [
    {
     "data": {
      "text/plain": [
       "{'description': 'Schema for List of ASDs',\n",
       " 'type': 'array',\n",
       " 'items': {'type': 'object',\n",
       "  'properties': {'name': {'type': 'string'},\n",
       "   'length': {'type': 'integer'},\n",
       "   'topology': {'type': 'string',\n",
       "    'enum': ['circular', 'linear'],\n",
       "    'default': 'linear'},\n",
       "   'sequence_digest': {'type': 'string',\n",
       "    'description': 'The sequence digest'}},\n",
       "  'required': ['length', 'name', 'topology'],\n",
       "  'recursive': ['sequence_digest'],\n",
       "  'not': {'required': ['sequence']}}}"
      ]
     },
     "execution_count": 60,
     "metadata": {},
     "output_type": "execute_result"
    }
   ],
   "source": [
    "rgdb.schemas[\"ASDList\"]"
   ]
  },
  {
   "cell_type": "code",
   "execution_count": 61,
   "metadata": {},
   "outputs": [
    {
     "data": {
      "text/plain": [
       "'chr1\\x1e10\\x1elinear\\x1e45d0ff9f1a9504cf2039f89c1ffb4c32\\tchr2\\x1e20\\x1elinear\\x1eb835d2c026aa66c52a05838dcc0b59d4'"
      ]
     },
     "execution_count": 61,
     "metadata": {},
     "output_type": "execute_result"
    }
   ],
   "source": [
    "rgdb.database[druid_asdlist1]"
   ]
  },
  {
   "cell_type": "markdown",
   "metadata": {},
   "source": [
    "Here we can see the schema for the ACDList, which is of type 'array', and each item will have 2 properties: `name` and `collection_digest`:"
   ]
  },
  {
   "cell_type": "code",
   "execution_count": 62,
   "metadata": {},
   "outputs": [
    {
     "data": {
      "text/plain": [
       "{'description': 'Schema for a list of ACDs; analogous to a collection of fasta files',\n",
       " 'type': 'array',\n",
       " 'items': {'type': 'object',\n",
       "  'properties': {'name': {'type': 'string'},\n",
       "   'collection_digest': {'type': 'string'}},\n",
       "  'required': ['collection_digest'],\n",
       "  'recursive': ['collection_digest']}}"
      ]
     },
     "execution_count": 62,
     "metadata": {},
     "output_type": "execute_result"
    }
   ],
   "source": [
    "rgdb.schemas[\"ACDList\"]"
   ]
  },
  {
   "cell_type": "code",
   "execution_count": 63,
   "metadata": {},
   "outputs": [
    {
     "data": {
      "text/plain": [
       "'fasta1\\x1ead6311ad38f593e9529dc9adf82f126a\\tfasta2\\x1e2e9262aac405c20d6cba33295b9ff72f'"
      ]
     },
     "execution_count": 63,
     "metadata": {},
     "output_type": "execute_result"
    }
   ],
   "source": [
    "rgdb.database[druid_acdlist]"
   ]
  },
  {
   "cell_type": "code",
   "execution_count": 64,
   "metadata": {},
   "outputs": [
    {
     "name": "stdout",
     "output_type": "stream",
     "text": [
      "fasta1\u001e",
      "ad6311ad38f593e9529dc9adf82f126a\tfasta2\u001e",
      "2e9262aac405c20d6cba33295b9ff72f\n"
     ]
    }
   ],
   "source": [
    "print(rgdb.database[druid_acdlist])"
   ]
  },
  {
   "cell_type": "markdown",
   "metadata": {},
   "source": [
    "You can also use the `retrieve` interface (which comes from the parent Henge object) to retrieve items at different recursion levels:"
   ]
  },
  {
   "cell_type": "code",
   "execution_count": 65,
   "metadata": {},
   "outputs": [
    {
     "data": {
      "text/plain": [
       "[{'name': 'fasta1',\n",
       "  'collection_digest': [{'name': 'chr1',\n",
       "    'length': '10',\n",
       "    'topology': 'linear',\n",
       "    'sequence_digest': {'sequence': 'TCGA'}},\n",
       "   {'name': 'chr2',\n",
       "    'length': '20',\n",
       "    'topology': 'linear',\n",
       "    'sequence_digest': {'sequence': 'TCGATCGATCGATCGA'}}]},\n",
       " {'name': 'fasta2',\n",
       "  'collection_digest': [{'name': 'chr3',\n",
       "    'length': '30',\n",
       "    'topology': 'circular',\n",
       "    'sequence_digest': {'sequence': 'GGAA'}},\n",
       "   {'name': 'chr4::mod',\n",
       "    'length': '40',\n",
       "    'topology': 'linear',\n",
       "    'sequence_digest': {'sequence': 'CGGCCCGGCGC'}}]}]"
      ]
     },
     "execution_count": 65,
     "metadata": {},
     "output_type": "execute_result"
    }
   ],
   "source": [
    "rgdb.retrieve(druid_acdlist)"
   ]
  },
  {
   "cell_type": "code",
   "execution_count": 66,
   "metadata": {},
   "outputs": [
    {
     "data": {
      "text/plain": [
       "[{'name': 'fasta1',\n",
       "  'collection_digest': [{'name': 'chr1',\n",
       "    'length': '10',\n",
       "    'topology': 'linear',\n",
       "    'sequence_digest': '45d0ff9f1a9504cf2039f89c1ffb4c32'},\n",
       "   {'name': 'chr2',\n",
       "    'length': '20',\n",
       "    'topology': 'linear',\n",
       "    'sequence_digest': 'b835d2c026aa66c52a05838dcc0b59d4'}]},\n",
       " {'name': 'fasta2',\n",
       "  'collection_digest': [{'name': 'chr3',\n",
       "    'length': '30',\n",
       "    'topology': 'circular',\n",
       "    'sequence_digest': '31fc6ca291a32fb9df82b85e5f077e31'},\n",
       "   {'name': 'chr4::mod',\n",
       "    'length': '40',\n",
       "    'topology': 'linear',\n",
       "    'sequence_digest': 'c175211cccf95a0e3c43fc0c70a3226d'}]}]"
      ]
     },
     "execution_count": 66,
     "metadata": {},
     "output_type": "execute_result"
    }
   ],
   "source": [
    "rgdb.retrieve(druid_acdlist, reclimit=1)"
   ]
  },
  {
   "cell_type": "code",
   "execution_count": 67,
   "metadata": {},
   "outputs": [
    {
     "data": {
      "text/plain": [
       "[{'name': 'fasta1',\n",
       "  'collection_digest': [{'name': 'chr1',\n",
       "    'length': '10',\n",
       "    'topology': 'linear',\n",
       "    'sequence_digest': {'sequence': 'TCGA'}},\n",
       "   {'name': 'chr2',\n",
       "    'length': '20',\n",
       "    'topology': 'linear',\n",
       "    'sequence_digest': {'sequence': 'TCGATCGATCGATCGA'}}]},\n",
       " {'name': 'fasta2',\n",
       "  'collection_digest': [{'name': 'chr3',\n",
       "    'length': '30',\n",
       "    'topology': 'circular',\n",
       "    'sequence_digest': {'sequence': 'GGAA'}},\n",
       "   {'name': 'chr4::mod',\n",
       "    'length': '40',\n",
       "    'topology': 'linear',\n",
       "    'sequence_digest': {'sequence': 'CGGCCCGGCGC'}}]}]"
      ]
     },
     "execution_count": 67,
     "metadata": {},
     "output_type": "execute_result"
    }
   ],
   "source": [
    "rgdb.retrieve(druid_acdlist, reclimit=2)"
   ]
  },
  {
   "cell_type": "markdown",
   "metadata": {},
   "source": [
    "The jsonschema validation system will prevent you from inserting an item that doesn't match the schema you are trying to insert:"
   ]
  },
  {
   "cell_type": "code",
   "execution_count": 68,
   "metadata": {},
   "outputs": [
    {
     "name": "stderr",
     "output_type": "stream",
     "text": [
      "Not valid data\n",
      "Attempting to insert item: [{'sequence': 'TCGA', 'topology': 'circular'}]\n",
      "Item type: sequence\n"
     ]
    },
    {
     "name": "stdout",
     "output_type": "stream",
     "text": [
      "[{'sequence': 'TCGA', 'topology': 'circular'}] is not of type 'object'\n",
      "\n",
      "Failed validating 'type' in schema:\n",
      "    {'description': 'Schema for a single raw sequence',\n",
      "     'properties': {'sequence': {'description': 'Actual sequence content',\n",
      "                                 'type': 'string'}},\n",
      "     'required': ['sequence'],\n",
      "     'type': 'object'}\n",
      "\n",
      "On instance:\n",
      "    [{'sequence': 'TCGA', 'topology': 'circular'}]\n"
     ]
    },
    {
     "data": {
      "text/plain": [
       "False"
      ]
     },
     "execution_count": 68,
     "metadata": {},
     "output_type": "execute_result"
    }
   ],
   "source": [
    "rgdb.insert([{'sequence': \"TCGA\", \"topology\":\"circular\"}], \"sequence\")"
   ]
  },
  {
   "cell_type": "code",
   "execution_count": 69,
   "metadata": {},
   "outputs": [
    {
     "name": "stderr",
     "output_type": "stream",
     "text": [
      "I don't know about items of type 'asd'. I know of: '['sequence', 'ASD', 'ASDList', 'ACDList', 'ACD']'\n"
     ]
    },
    {
     "data": {
      "text/plain": [
       "False"
      ]
     },
     "execution_count": 69,
     "metadata": {},
     "output_type": "execute_result"
    }
   ],
   "source": [
    "rgdb.insert([{'name': \"chrX\", 'sequence': \"TCGA\", \"topology\":\"circular\", \"length\":4}], \"asd\")"
   ]
  },
  {
   "cell_type": "markdown",
   "metadata": {},
   "source": [
    "# Advanced bonus recipes\n",
    "\n",
    "Here are some advanced things you can do:"
   ]
  },
  {
   "cell_type": "markdown",
   "metadata": {},
   "source": [
    "List all the items in the database:"
   ]
  },
  {
   "cell_type": "code",
   "execution_count": 70,
   "metadata": {
    "scrolled": true
   },
   "outputs": [
    {
     "name": "stdout",
     "output_type": "stream",
     "text": [
      "45d0ff9f1a9504cf2039f89c1ffb4c32 TCGA\n",
      "45d0ff9f1a9504cf2039f89c1ffb4c32_item_type sequence\n",
      "45d0ff9f1a9504cf2039f89c1ffb4c32_digest_version md5\n",
      "f1f8f4bf413b16ad135722aa4591043e ACGT\n",
      "f1f8f4bf413b16ad135722aa4591043e_item_type sequence\n",
      "f1f8f4bf413b16ad135722aa4591043e_digest_version md5\n",
      "2bcaa3eadf4fea03f55f0c584af05378 chr1\u001e",
      "4\u001e",
      "linear\u001e",
      "f1f8f4bf413b16ad135722aa4591043e\tchr2\u001e",
      "4\u001e",
      "linear\u001e",
      "45d0ff9f1a9504cf2039f89c1ffb4c32\n",
      "2bcaa3eadf4fea03f55f0c584af05378_item_type ASDList\n",
      "2bcaa3eadf4fea03f55f0c584af05378_digest_version md5\n",
      "adbd2580b1cb145667c79baf9bfd391a TTCCGGAA\n",
      "adbd2580b1cb145667c79baf9bfd391a_item_type sequence\n",
      "adbd2580b1cb145667c79baf9bfd391a_digest_version md5\n",
      "1cabbd10bf54f733718f0d3bc786dc3b chr1\u001e",
      "4\u001e",
      "linear\u001e",
      "f1f8f4bf413b16ad135722aa4591043e\tchr2\u001e",
      "4\u001e",
      "linear\u001e",
      "45d0ff9f1a9504cf2039f89c1ffb4c32\tchrX\u001e",
      "8\u001e",
      "linear\u001e",
      "adbd2580b1cb145667c79baf9bfd391a\n",
      "1cabbd10bf54f733718f0d3bc786dc3b_item_type ASDList\n",
      "1cabbd10bf54f733718f0d3bc786dc3b_digest_version md5\n",
      "2bcc40045a90366fdcc89feeed26ff3f 1\u001e",
      "4\u001e",
      "linear\u001e",
      "f1f8f4bf413b16ad135722aa4591043e\t2\u001e",
      "4\u001e",
      "linear\u001e",
      "45d0ff9f1a9504cf2039f89c1ffb4c32\tX\u001e",
      "8\u001e",
      "linear\u001e",
      "adbd2580b1cb145667c79baf9bfd391a\n",
      "2bcc40045a90366fdcc89feeed26ff3f_item_type ASDList\n",
      "2bcc40045a90366fdcc89feeed26ff3f_digest_version md5\n",
      "9fb8efcee89118d6035c4fd54fa41a3d chrX\u001e",
      "8\u001e",
      "linear\u001e",
      "adbd2580b1cb145667c79baf9bfd391a\n",
      "9fb8efcee89118d6035c4fd54fa41a3d_item_type ASDList\n",
      "9fb8efcee89118d6035c4fd54fa41a3d_digest_version md5\n",
      "e9974260ad53075f4021f96b0f7f64a0 chr1\u001e",
      "4\u001e",
      "linear\u001e",
      "\tchr2\u001e",
      "4\u001e",
      "linear\u001e",
      "\tchrX\u001e",
      "8\u001e",
      "linear\u001e",
      "\n",
      "e9974260ad53075f4021f96b0f7f64a0_item_type ASDList\n",
      "e9974260ad53075f4021f96b0f7f64a0_digest_version md5\n",
      "981f2447405240954ccef8031040d4c4 demo1\u001e",
      "2bcaa3eadf4fea03f55f0c584af05378\t demo2\u001e",
      "1cabbd10bf54f733718f0d3bc786dc3b\n",
      "981f2447405240954ccef8031040d4c4_item_type ACDList\n",
      "981f2447405240954ccef8031040d4c4_digest_version md5\n",
      "b835d2c026aa66c52a05838dcc0b59d4 TCGATCGATCGATCGA\n",
      "b835d2c026aa66c52a05838dcc0b59d4_item_type sequence\n",
      "b835d2c026aa66c52a05838dcc0b59d4_digest_version md5\n",
      "31fc6ca291a32fb9df82b85e5f077e31 GGAA\n",
      "31fc6ca291a32fb9df82b85e5f077e31_item_type sequence\n",
      "31fc6ca291a32fb9df82b85e5f077e31_digest_version md5\n",
      "c175211cccf95a0e3c43fc0c70a3226d CGGCCCGGCGC\n",
      "c175211cccf95a0e3c43fc0c70a3226d_item_type sequence\n",
      "c175211cccf95a0e3c43fc0c70a3226d_digest_version md5\n",
      "548acc8a98c34bbcdb17bdb7f8b7ea37 chr1\u001e",
      "10\u001e",
      "linear\u001e",
      "45d0ff9f1a9504cf2039f89c1ffb4c32\n",
      "548acc8a98c34bbcdb17bdb7f8b7ea37_item_type ASD\n",
      "548acc8a98c34bbcdb17bdb7f8b7ea37_digest_version md5\n",
      "ad6311ad38f593e9529dc9adf82f126a chr1\u001e",
      "10\u001e",
      "linear\u001e",
      "45d0ff9f1a9504cf2039f89c1ffb4c32\tchr2\u001e",
      "20\u001e",
      "linear\u001e",
      "b835d2c026aa66c52a05838dcc0b59d4\n",
      "ad6311ad38f593e9529dc9adf82f126a_item_type ASDList\n",
      "ad6311ad38f593e9529dc9adf82f126a_digest_version md5\n",
      "2e9262aac405c20d6cba33295b9ff72f chr3\u001e",
      "30\u001e",
      "circular\u001e",
      "31fc6ca291a32fb9df82b85e5f077e31\tchr4::mod\u001e",
      "40\u001e",
      "linear\u001e",
      "c175211cccf95a0e3c43fc0c70a3226d\n",
      "2e9262aac405c20d6cba33295b9ff72f_item_type ASDList\n",
      "2e9262aac405c20d6cba33295b9ff72f_digest_version md5\n",
      "6eaefa29f5e59d6f93e723c02fb6d5fb fasta1\u001e",
      "ad6311ad38f593e9529dc9adf82f126a\tfasta2\u001e",
      "2e9262aac405c20d6cba33295b9ff72f\n",
      "6eaefa29f5e59d6f93e723c02fb6d5fb_item_type ACDList\n",
      "6eaefa29f5e59d6f93e723c02fb6d5fb_digest_version md5\n"
     ]
    }
   ],
   "source": [
    "for k,v in rgdb.database.items():\n",
    "    print(k, v)"
   ]
  },
  {
   "cell_type": "markdown",
   "metadata": {},
   "source": [
    "This is how you would clean out all items in the database:"
   ]
  },
  {
   "cell_type": "code",
   "execution_count": 71,
   "metadata": {},
   "outputs": [],
   "source": [
    "for k,v in rgdb.database.items():\n",
    "    del rgdb.database[k]"
   ]
  },
  {
   "cell_type": "markdown",
   "metadata": {},
   "source": [
    "Look at the actual delimiters used by `Henge`."
   ]
  },
  {
   "cell_type": "code",
   "execution_count": 72,
   "metadata": {},
   "outputs": [
    {
     "data": {
      "text/plain": [
       "'\\x1e'"
      ]
     },
     "execution_count": 72,
     "metadata": {},
     "output_type": "execute_result"
    }
   ],
   "source": [
    "import henge \n",
    "henge.DELIM_ATTR"
   ]
  },
  {
   "cell_type": "code",
   "execution_count": 73,
   "metadata": {
    "scrolled": true
   },
   "outputs": [
    {
     "data": {
      "text/plain": [
       "'\\t'"
      ]
     },
     "execution_count": 73,
     "metadata": {},
     "output_type": "execute_result"
    }
   ],
   "source": [
    "henge.DELIM_ITEM"
   ]
  },
  {
   "cell_type": "markdown",
   "metadata": {},
   "source": [
    "## Linking henges\n",
    "\n",
    "It may be that we want to split information among servers; for example, we want the sequences themselves to be hosted in one location, because that data is large; but we want the collection-level information, which is just sets of pointers to sequences, in another location.\n",
    "\n",
    "We can do this by linking henges to one other. Here, we'll create two henges; one we call *heavy*, and it only knows how to store sequences. Another, we call *light* -- it stores everything else. Then, we'll tell the light henge that for sequences, it should interact with the heavy henge."
   ]
  },
  {
   "cell_type": "markdown",
   "metadata": {},
   "source": [
    "\n",
    "Here, I've started up 2 Mongo instances that both run locally but on different ports. These are effectively different databases and are simulating different servers. For development I do this with these commands: \n",
    "\n",
    "```\n",
    "docker run -it --network \"host\" --user=854360:25014  -v /ext/qumulo/database/mongo_local:/data/db mongo --port 27018\n",
    "\n",
    "docker run -it --network \"host\" --user=854360:25014  -v /ext/qumulo/database/mongo_remote:/data/db mongo --port 27019\n",
    "```"
   ]
  },
  {
   "cell_type": "code",
   "execution_count": null,
   "metadata": {},
   "outputs": [],
   "source": [
    "import henge\n",
    "import os"
   ]
  },
  {
   "cell_type": "code",
   "execution_count": null,
   "metadata": {},
   "outputs": [],
   "source": [
    "backend_light = refget.MongoDict(host='localhost', port=27018, database='my_dict',\n",
    "                        collection='store')"
   ]
  },
  {
   "cell_type": "code",
   "execution_count": null,
   "metadata": {},
   "outputs": [],
   "source": [
    "backend_heavy = refget.MongoDict(host='localhost', port=27019, database='my_dict',\n",
    "                        collection='store')"
   ]
  },
  {
   "cell_type": "code",
   "execution_count": null,
   "metadata": {},
   "outputs": [],
   "source": [
    "schemas_light= { \n",
    "                    \"ASD\": henge.load_yaml(\"http://schema.databio.org/refget/annotated_sequence_digest.yaml\"),\n",
    "                    \"ASDList\": henge.load_yaml(\"http://schema.databio.org/refget/ASDList.yaml\"),\n",
    "                    \"ACDList\": henge.load_yaml(\"http://schema.databio.org/refget/ACDList.yaml\"),\n",
    "                    \"ACD\": henge.load_yaml(\"http://schema.databio.org/refget/annotated_collection_digest.yaml\")}\n"
   ]
  },
  {
   "cell_type": "code",
   "execution_count": null,
   "metadata": {},
   "outputs": [],
   "source": [
    "schemas_heavy = {\"sequence\": henge.load_yaml(\"http://schema.databio.org/refget/sequence.yaml\")}"
   ]
  },
  {
   "cell_type": "code",
   "execution_count": null,
   "metadata": {},
   "outputs": [],
   "source": [
    "rgdb_heavy = refget.RefGetHenge(backend_heavy, schemas=schemas_heavy)"
   ]
  },
  {
   "cell_type": "code",
   "execution_count": null,
   "metadata": {},
   "outputs": [],
   "source": [
    "rgdb_heavy.list_item_types()"
   ]
  },
  {
   "cell_type": "markdown",
   "metadata": {},
   "source": [
    "Now when we create the light database, we'll need a dictionary that maps the item types to other henges, so this henge will know how to deal with these item types. We'll create a dict saying that `sequence` items should map to this heavy henge."
   ]
  },
  {
   "cell_type": "code",
   "execution_count": null,
   "metadata": {},
   "outputs": [],
   "source": [
    "heavy_henge_list = {\"sequence\": rgdb_heavy}"
   ]
  },
  {
   "cell_type": "code",
   "execution_count": null,
   "metadata": {
    "scrolled": true
   },
   "outputs": [],
   "source": [
    "rgdb_light = refget.RefGetHenge(backend_light, schemas=schemas_light, henges=heavy_henge_list)"
   ]
  },
  {
   "cell_type": "markdown",
   "metadata": {},
   "source": [
    "But notice that the light database includes sequences in its list of known item types, even though this was included in the schemas. It's because it is populated via it's connection to the heavy henge, which *does* understand sequences."
   ]
  },
  {
   "cell_type": "code",
   "execution_count": null,
   "metadata": {},
   "outputs": [],
   "source": [
    "rgdb_light.list_item_types()"
   ]
  },
  {
   "cell_type": "code",
   "execution_count": null,
   "metadata": {},
   "outputs": [],
   "source": [
    "rgdb_light.load_seq(\"TCGA\")"
   ]
  },
  {
   "cell_type": "code",
   "execution_count": null,
   "metadata": {},
   "outputs": [],
   "source": [
    "rgdb_light.refget(\"45d0ff9f1a9504cf2039f89c1ffb4c32\")"
   ]
  },
  {
   "cell_type": "markdown",
   "metadata": {},
   "source": [
    "We've just inserted and retrieved the sequence object through the light henge; however, this sequence is not actually stored in this henge, because it is not listed as one of its primary schemas; here we can show that the henge is actually inserting and retriving this object from the heavy henge\""
   ]
  },
  {
   "cell_type": "code",
   "execution_count": null,
   "metadata": {},
   "outputs": [],
   "source": [
    "rgdb_light.show()"
   ]
  },
  {
   "cell_type": "code",
   "execution_count": null,
   "metadata": {},
   "outputs": [],
   "source": [
    "rgdb_heavy.show()"
   ]
  },
  {
   "cell_type": "markdown",
   "metadata": {},
   "source": [
    "Look at that; it put the heavy object in the heavy database (the 'storage henge') but can still retrieve it through the light database (the 'interface henge')."
   ]
  }
 ],
 "metadata": {
  "kernelspec": {
   "display_name": "Python 3",
   "language": "python",
   "name": "python3"
  },
  "language_info": {
   "codemirror_mode": {
    "name": "ipython",
    "version": 3
   },
   "file_extension": ".py",
   "mimetype": "text/x-python",
   "name": "python",
   "nbconvert_exporter": "python",
   "pygments_lexer": "ipython3",
   "version": "3.8.5"
  }
 },
 "nbformat": 4,
 "nbformat_minor": 2
}
